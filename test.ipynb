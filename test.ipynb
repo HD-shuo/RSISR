{
 "cells": [
  {
   "cell_type": "code",
   "execution_count": 16,
   "metadata": {},
   "outputs": [
    {
     "name": "stderr",
     "output_type": "stream",
     "text": [
      "/tmp/ipykernel_2871532/2991566931.py:20: UserWarning: To copy construct from a tensor, it is recommended to use sourceTensor.clone().detach() or sourceTensor.clone().detach().requires_grad_(True), rather than torch.tensor(sourceTensor).\n",
      "  images[i] = torch.tensor(img)\n"
     ]
    }
   ],
   "source": [
    "from model.upscale_model import UpsampleModule\n",
    "from torchvision.transforms import Compose,ToTensor, ToPILImage, Resize\n",
    "from omegaconf import OmegaConf\n",
    "import numpy as np\n",
    "import cv2\n",
    "from PIL import Image\n",
    "import torch\n",
    "import os\n",
    "\n",
    "def train_lr_transform(crop_size, upscale_factor, images):\n",
    "    transform = Compose([\n",
    "        ToPILImage(),\n",
    "        Resize(crop_size // upscale_factor, interpolation=Image.BICUBIC),\n",
    "        ToTensor()\n",
    "    ])\n",
    "    for i in range(len(images)):\n",
    "        img = cv2.resize(images[i], (256, 256))\n",
    "        img = cv2.cvtColor(img, cv2.COLOR_BGR2RGB)\n",
    "        img = transform(img)\n",
    "        images[i] = torch.tensor(img)\n",
    "    images = torch.stack(images)\n",
    "    return images\n",
    "\n",
    "def save_images(path, flag, images):\n",
    "    for i in range(len(images)):\n",
    "        img = images[i].detach().numpy().transpose((1,2,0))\n",
    "        img = Image.fromarray((img * 255).astype(np.uint8))\n",
    "        filename = f'restore_{flag}_{i}.png'\n",
    "        new_path = os.path.join(path, filename)\n",
    "        img.save(new_path)\n",
    "\n",
    "if __name__ == \"__main__\":\n",
    "    # load conf\n",
    "    confdir = \"/share/program/dxs/RSISR/configs/model.yaml\"\n",
    "    conf = OmegaConf.load(confdir)\n",
    "    # load model\n",
    "    upsample = UpsampleModule(conf.upsample)\n",
    "    test_images = []\n",
    "    test_img1 = '/share/program/dxs/RSISR/test_demo/airplane08.png'\n",
    "    test_img2 = '/share/program/dxs/RSISR/test_demo/freeway26.png'\n",
    "    save_path = \"/share/program/dxs/RSISR/test_demo/test_module/\"\n",
    "    test_img1 = Image.open(test_img1).convert(\"RGB\")\n",
    "    test_img1 = np.array(test_img1)\n",
    "    test_images.append(test_img1)\n",
    "    test_img2 = Image.open(test_img2).convert(\"RGB\")\n",
    "    test_img2 = np.array(test_img2)\n",
    "    test_images.append(test_img2)\n",
    "    test_tensors = train_lr_transform(256, 4, test_images)\n",
    "    save_images(save_path, 'lr', test_tensors)\n",
    "    output_features = upsample(test_tensors)\n",
    "    save_images(save_path, 'upsample', output_features)"
   ]
  },
  {
   "cell_type": "code",
   "execution_count": null,
   "metadata": {},
   "outputs": [],
   "source": [
    "from PIL import Image\n",
    "\n",
    "# 函数：获取图片分辨率\n",
    "def get_image_resolution(image_path):\n",
    "    try:\n",
    "        # 打开图片\n",
    "        with Image.open(image_path) as img:\n",
    "            # 获取分辨率\n",
    "            width, height = img.size\n",
    "            return width, height\n",
    "    except Exception as e:\n",
    "        print(f\"无法打开图片: {e}\")\n",
    "        return None\n",
    "\n",
    "# 主函数\n",
    "if __name__ == \"__main__\":\n",
    "    # 输入图片路径\n",
    "    image_path = '/share/program/dxs/Database/data/DIV2K_test_HR/0801.png'\n",
    "    resolution = get_image_resolution(image_path)\n",
    "\n",
    "    if resolution:\n",
    "        print(f\"图片分辨率: {resolution[0]} x {resolution[1]}\")"
   ]
  },
  {
   "cell_type": "code",
   "execution_count": 9,
   "metadata": {},
   "outputs": [
    {
     "name": "stdout",
     "output_type": "stream",
     "text": [
      "torch.Size([3, 64, 64])\n",
      "torch.Size([3, 64, 64])\n"
     ]
    },
    {
     "name": "stderr",
     "output_type": "stream",
     "text": [
      "/home/work/anaconda3/envs/daixingshuo_rsisr/lib/python3.8/site-packages/torchvision/transforms/transforms.py:332: UserWarning: Argument interpolation should be of type InterpolationMode instead of int. Please, use InterpolationMode enum.\n",
      "  warnings.warn(\n",
      "/tmp/ipykernel_27078/1289130466.py:19: UserWarning: To copy construct from a tensor, it is recommended to use sourceTensor.clone().detach() or sourceTensor.clone().detach().requires_grad_(True), rather than torch.tensor(sourceTensor).\n",
      "  images[i] = torch.tensor(img)\n"
     ]
    }
   ],
   "source": []
  },
  {
   "cell_type": "code",
   "execution_count": 1,
   "metadata": {},
   "outputs": [
    {
     "name": "stdout",
     "output_type": "stream",
     "text": [
      "[1, 2, 3]\n"
     ]
    }
   ],
   "source": []
  }
 ],
 "metadata": {
  "kernelspec": {
   "display_name": "daixingshuo_rsisr",
   "language": "python",
   "name": "python3"
  },
  "language_info": {
   "codemirror_mode": {
    "name": "ipython",
    "version": 3
   },
   "file_extension": ".py",
   "mimetype": "text/x-python",
   "name": "python",
   "nbconvert_exporter": "python",
   "pygments_lexer": "ipython3",
   "version": "3.8.5"
  },
  "orig_nbformat": 4,
  "vscode": {
   "interpreter": {
    "hash": "9d4468623f3777065cada1514c09f2f683f0f4114f8508ccc3567c825a806370"
   }
  }
 },
 "nbformat": 4,
 "nbformat_minor": 2
}
