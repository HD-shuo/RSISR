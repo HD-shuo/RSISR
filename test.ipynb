{
 "cells": [
  {
   "cell_type": "code",
   "execution_count": null,
   "metadata": {},
   "outputs": [],
   "source": [
    "import torch\n",
    "from denoising_diffusion_pytorch import Unet, GaussianDiffusion\n",
    "\n",
    "model = Unet(\n",
    "    dim = 64,\n",
    "    dim_mults = (1, 2, 4, 8),\n",
    "    flash_attn = True\n",
    ")\n",
    "\n",
    "diffusion = GaussianDiffusion(\n",
    "    model,\n",
    "    image_size = 128,\n",
    "    timesteps = 1000    # number of steps\n",
    ")\n",
    "\n",
    "training_images = torch.rand(8, 3, 128, 128) # images are normalized from 0 to 1\n",
    "loss = diffusion(training_images)\n",
    "loss.backward()\n",
    "\n",
    "# after a lot of training\n",
    "\n",
    "sampled_images = diffusion.sample(batch_size = 4)\n",
    "sampled_images.shape # (4, 3, 128, 128)"
   ]
  },
  {
   "cell_type": "code",
   "execution_count": 9,
   "metadata": {},
   "outputs": [
    {
     "name": "stdout",
     "output_type": "stream",
     "text": [
      "torch.Size([3, 64, 64])\n",
      "torch.Size([3, 64, 64])\n"
     ]
    },
    {
     "name": "stderr",
     "output_type": "stream",
     "text": [
      "/home/work/anaconda3/envs/daixingshuo_rsisr/lib/python3.8/site-packages/torchvision/transforms/transforms.py:332: UserWarning: Argument interpolation should be of type InterpolationMode instead of int. Please, use InterpolationMode enum.\n",
      "  warnings.warn(\n",
      "/tmp/ipykernel_27078/1289130466.py:19: UserWarning: To copy construct from a tensor, it is recommended to use sourceTensor.clone().detach() or sourceTensor.clone().detach().requires_grad_(True), rather than torch.tensor(sourceTensor).\n",
      "  images[i] = torch.tensor(img)\n"
     ]
    }
   ],
   "source": [
    "# downsample\n",
    "from torchvision.transforms import Compose,ToTensor, ToPILImage, Resize\n",
    "import torch\n",
    "import numpy as np\n",
    "from PIL import Image\n",
    "import cv2\n",
    "\n",
    "\n",
    "def train_lr_transform(crop_size, upscale_factor, images):\n",
    "    transform = Compose([\n",
    "        ToPILImage(),\n",
    "        Resize(crop_size // upscale_factor, interpolation=Image.BICUBIC),\n",
    "        ToTensor()\n",
    "    ])\n",
    "    for i in range(len(images)):\n",
    "        img = cv2.resize(images[i], (256, 256))\n",
    "        img = cv2.cvtColor(img, cv2.COLOR_BGR2RGB)\n",
    "        img = transform(img)\n",
    "        images[i] = torch.tensor(img)\n",
    "    images = torch.stack(images)\n",
    "    return images\n",
    "\n",
    "test_images = []\n",
    "test_img1 = '/home/work/daixingshuo/RSISR/test_demo/intersection94.png'\n",
    "test_img2 = '/home/work/daixingshuo/RSISR/test_demo/agricultural08.png'\n",
    "test_img1 = Image.open(test_img1).convert(\"RGB\")\n",
    "test_img1 = np.array(test_img1)\n",
    "test_images.append(test_img1)\n",
    "test_img2 = Image.open(test_img2).convert(\"RGB\")\n",
    "test_img2 = np.array(test_img2)\n",
    "test_images.append(test_img2)\n",
    "test_images = train_lr_transform(256, 4, test_images)\n",
    "for im in test_images:\n",
    "    print(im.size())"
   ]
  },
  {
   "cell_type": "code",
   "execution_count": 1,
   "metadata": {},
   "outputs": [
    {
     "name": "stdout",
     "output_type": "stream",
     "text": [
      "[1, 2, 3]\n"
     ]
    }
   ],
   "source": [
    "li = [1, 2, 3, 4, 5]\n",
    "print(li[:3])"
   ]
  }
 ],
 "metadata": {
  "kernelspec": {
   "display_name": "daixingshuo_rsisr",
   "language": "python",
   "name": "python3"
  },
  "language_info": {
   "codemirror_mode": {
    "name": "ipython",
    "version": 3
   },
   "file_extension": ".py",
   "mimetype": "text/x-python",
   "name": "python",
   "nbconvert_exporter": "python",
   "pygments_lexer": "ipython3",
   "version": "3.8.5"
  },
  "orig_nbformat": 4,
  "vscode": {
   "interpreter": {
    "hash": "9d4468623f3777065cada1514c09f2f683f0f4114f8508ccc3567c825a806370"
   }
  }
 },
 "nbformat": 4,
 "nbformat_minor": 2
}
